{
  "nbformat": 4,
  "nbformat_minor": 0,
  "metadata": {
    "colab": {
      "provenance": [],
      "toc_visible": true,
      "include_colab_link": true
    },
    "kernelspec": {
      "name": "python3",
      "display_name": "Python 3"
    },
    "language_info": {
      "name": "python"
    }
  },
  "cells": [
    {
      "cell_type": "markdown",
      "metadata": {
        "id": "view-in-github",
        "colab_type": "text"
      },
      "source": [
        "<a href=\"https://colab.research.google.com/github/ines-ms/Final_Exam/blob/main/Data_Modeling_Session7%268.ipynb\" target=\"_parent\"><img src=\"https://colab.research.google.com/assets/colab-badge.svg\" alt=\"Open In Colab\"/></a>"
      ]
    },
    {
      "cell_type": "markdown",
      "source": [
        "# <center>Data Modeling - Session 7&8 </center>\n",
        "\n",
        "---\n",
        "\n",
        "\n",
        "<img src=\"https://datasemantics.co/wp-content/uploads/2021/01/it-heads-guide-to-data-modelling.jpg\">\n",
        "\n"
      ],
      "metadata": {
        "id": "AbxoVIr-NhrO"
      }
    },
    {
      "cell_type": "markdown",
      "source": [
        "# NumPy\n",
        "![](https://encrypted-tbn0.gstatic.com/images?q=tbn:ANd9GcR_VfYfuw4JGQC0QLtbrhWyAQgW9qD9fXanG34lWGAyI1y34PxtAPagPNkCTAoX7_x7sFw&usqp=CAU)"
      ],
      "metadata": {
        "id": "L7b9cZJzNhv6"
      }
    },
    {
      "cell_type": "markdown",
      "source": [
        "## What is NumPy?\n",
        "- NumPy is an open source project aiming to enable numerical computing with Python.\n",
        "- NumPy is developed in the open on GitHub: https://github.com/numpy\n",
        "- NumPy brings the computational power of languages like C and Fortran to Python, a language much easier to learn and use. With this power comes simplicity: a solution in NumPy is often clear and elegant.\n",
        "- NumPy is at the core at every data science libraries like: Pandas, Matplotlib, TensorFlow, PyTorch.\n"
      ],
      "metadata": {
        "id": "56vwSUD_NhyY"
      }
    },
    {
      "cell_type": "markdown",
      "source": [
        "## Real World Examples\n",
        "First image of a black hole: https://numpy.org/case-studies/blackhole-image/\n",
        "\n",
        "Discovery of gravitational waves: https://numpy.org/case-studies/gw-discov/\n",
        "\n",
        "\n",
        "Sport analytics: https://numpy.org/case-studies/cricket-analytics/"
      ],
      "metadata": {
        "id": "UXJSfY6SNh02"
      }
    },
    {
      "cell_type": "markdown",
      "source": [
        "## Why NumPy?\n",
        "\n",
        "- NumPy is designed for efficiency on large arrays of data:\n",
        "- NumPy internally stores data in a contiguous block of memory, NumPy's library of algorithms written in the C language can operate on this memory without any type checking or other overhead.\n",
        "- NumPy operations perform complex computations on entire arrays without the need for Python for loops, which can be slow for large sequences.\n",
        "- NumPy is faster than regular Python code because its C-based algorithms avoid overhead present with regular interpreted Python code.\n",
        "\n",
        "\n",
        "\n"
      ],
      "metadata": {
        "id": "i0QRzDs_Nh3I"
      }
    },
    {
      "cell_type": "markdown",
      "source": [
        "## Speed Comparison\n",
        "![](https://img.freepik.com/free-vector/rabbit-turtle-race_1308-30094.jpg)"
      ],
      "metadata": {
        "id": "2Qof27WZXEW7"
      }
    },
    {
      "cell_type": "code",
      "source": [
        "import random\n",
        "import time\n",
        "import numpy as np\n",
        "\n",
        "N = 10**8\n",
        "a = []\n",
        "# list of 10 million numbers\n",
        "for _ in range(N):\n",
        "  a.append(random.randint(1, N))\n",
        "\n",
        "start = time.perf_counter()\n",
        "a.sort()\n",
        "end = time.perf_counter()\n",
        "print(f\"classic took {end-start}\")\n",
        "\n",
        "a = np.random.randint(1, N, N)\n",
        "start = time.perf_counter()\n",
        "a.sort()\n",
        "end = time.perf_counter()\n",
        "print(f\"NumPy took {end-start}\")\n"
      ],
      "metadata": {
        "colab": {
          "base_uri": "https://localhost:8080/"
        },
        "id": "67T2Oc2TXIiB",
        "outputId": "8468230f-2b5d-492f-a953-1edbcf564ddc"
      },
      "execution_count": null,
      "outputs": [
        {
          "output_type": "stream",
          "name": "stdout",
          "text": [
            "classic took 82.42946481499985\n",
            "NumPy took 15.305152487000214\n"
          ]
        }
      ]
    },
    {
      "cell_type": "markdown",
      "source": [
        "You usually import numpy by:\n",
        "\n",
        "\n",
        "```\n",
        "import numpy as np\n",
        "```\n",
        "\n"
      ],
      "metadata": {
        "id": "pLxW6iXiYbVV"
      }
    },
    {
      "cell_type": "markdown",
      "source": [
        "## NDARRAY\n",
        "\n",
        "One of the key features of NumPy is its N-dimensional array object, or ndarray. Arrays enable you to perform mathematical operations on whole blocks of data using similar syntax to the equivalent operations between scalar elements.\n"
      ],
      "metadata": {
        "id": "22QQ0nS5X_zU"
      }
    },
    {
      "cell_type": "code",
      "source": [
        "import numpy as np\n",
        "a = np.array([1, 2, 3, 4, 5, 6, 7])\n",
        "print(a, type(a))\n",
        "print(a+2)\n",
        "print(a/2)\n",
        "print(a+a)\n",
        "print(a**2)\n"
      ],
      "metadata": {
        "id": "wTsTtVmdYruC"
      },
      "execution_count": null,
      "outputs": []
    },
    {
      "cell_type": "markdown",
      "source": [
        "### Creating NDARRAYS\n",
        "\n",
        "![](https://i.kym-cdn.com/photos/images/newsfeed/001/585/311/63e.png)\n",
        "\n",
        "- The function np.array() can be used to create an ndarray from any sequence object. Lists of lists can be used to create multi-dimensional ndarrays\n",
        "\n",
        "- ndim, size and shape attributes give information about the size of the array, while dtype gives information about the data type"
      ],
      "metadata": {
        "id": "p-WknTQDbQRM"
      }
    },
    {
      "cell_type": "code",
      "source": [
        "a = np.array([[1, 2, 3, 4, 5],\n",
        "              [6, 7, 8, 9, 10]])\n",
        "print(a)\n",
        "print(f\"{a.ndim}, {a.size}, {a.shape}, {a.dtype}\\n\")\n",
        "\n",
        "a = np.array([[1, 2, 3],\n",
        "              [4, 5, 6],\n",
        "              [7, 8, 9]])\n",
        "print(a)\n",
        "print(f\"{a.ndim}, {a.size}, {a.shape}, {a.dtype}\")"
      ],
      "metadata": {
        "id": "KQxQLHozbsPz"
      },
      "execution_count": null,
      "outputs": []
    },
    {
      "cell_type": "markdown",
      "source": [
        "### Other Ways to Initialize\n",
        "\n",
        "- **zeroes** and **ones** are other way to initialize arrays with all 0 or all 1 elements, given the shape\n",
        "\n",
        "- The dtype is a special attribute that can be passed to the creation of arrays and specifies the type of data each element of the array will use:\n",
        "\n"
      ],
      "metadata": {
        "id": "0QuPKfzacM3Z"
      }
    },
    {
      "cell_type": "code",
      "source": [
        "a0 = np.zeros((4,10))\n",
        "a1 = np.ones((2, 3, 4))\n",
        "print(a0)\n",
        "print(a1)\n",
        "a11 = np.ones((2, 3, 4), dtype=np.int16)\n",
        "print(a11)\n"
      ],
      "metadata": {
        "id": "1-xBnQkiciVW"
      },
      "execution_count": null,
      "outputs": []
    },
    {
      "cell_type": "markdown",
      "source": [
        "### Arithmetic Operations on NDARRAYS\n",
        "![](https://preview.redd.it/npvbpd6qvwy31.jpg?width=640&crop=smart&auto=webp&s=87d29ee97c8395e8c0514690c4c83c682dd8d6b4)\n",
        "\n",
        "They are very useful since they allow to write operations withoutthe need for loops. This is called vectorization. Any operation on equal sized arrays will be performed element-wise\n",
        "\n",
        "\n",
        "Operation with scalars will propagate the scalar to each element of the array\n"
      ],
      "metadata": {
        "id": "Ror4pm_Fc_4K"
      }
    },
    {
      "cell_type": "code",
      "source": [
        "a1 = np.array([1, 2, 3])\n",
        "a2 = np.array([4, 5, 6])\n",
        "print(a1+a2, a1*a2, \"\\n\")\n",
        "a1 = np.array([[1, 2, 3], [4, 5, 6]])\n",
        "print(a1+a2)\n",
        "print(\"\\n\\n\")\n",
        "\n",
        "\n",
        "print(10/a1)\n",
        "print(a1 * 2.5)\n",
        "print(a1 > 3)\n"
      ],
      "metadata": {
        "id": "6WIlGvSFdXt_"
      },
      "execution_count": null,
      "outputs": []
    },
    {
      "cell_type": "markdown",
      "source": [
        "## Indexing and Slicing\n",
        "\n",
        "![](https://i.insider.com/5e610df6a9f40c56661fa5c2?width=600&format=jpeg&auto=webp)\n",
        "\n",
        "Indexing works pretty much as expected (same as if you had multiple lists and you index one by one). You can simplify with just one set of square brackets and comma separated values\n",
        "\n",
        "\n",
        "\n",
        "In multi dimensional arrays indexing will produce a multi dimensional array with one less dimensions. So, from 3 dimensions it goes down to 2 dimensions by indexing and so on:\n"
      ],
      "metadata": {
        "id": "jRe33clKeRot"
      }
    },
    {
      "cell_type": "code",
      "source": [
        "a = np.array(\n",
        "    [[1, 2, 3, 4, 5],\n",
        "     [6, 7, 8, 9, 10]]\n",
        "     )\n",
        "print(a[0][1])\n",
        "print(a[1, 2]) # same thing\n",
        "\n",
        "a = np.random.randint(10, 100, size=(3, 4, 5))\n",
        "print(f\"a={a}\\n\")\n",
        "print(f\"a[1] = \\n {a[1]}\\n\")\n",
        "print(f\"a[1, 2] = \\n{a[1, 2]}\\n\")\n"
      ],
      "metadata": {
        "id": "hlXlR_WWevcI"
      },
      "execution_count": null,
      "outputs": []
    },
    {
      "cell_type": "markdown",
      "source": [
        "Slicing on one dimensional ndarray is the same as in python list.The difference is that the slice is not a copy but rather a view ofthe original array\n",
        "\n",
        "\n",
        "\n",
        "In multi dimensional arrays slicing needs to take more parameters, just like indexing:\n"
      ],
      "metadata": {
        "id": "_6sFOyitgM6v"
      }
    },
    {
      "cell_type": "code",
      "source": [
        "a = np.array([1, 2, 3, 4, 5, 6, 7, 8, 9])\n",
        "print(a)\n",
        "print(a[1:5])\n",
        "slice = a[1:5]\n",
        "slice[0] = 99\n",
        "print(a)\n",
        "slice[:] = 99 # careful here with slice = 99\n",
        "print(a)\n",
        "print(\"\\n\\n\")\n",
        "\n",
        "\n",
        "a = np.arange(12)\n",
        "a = a.reshape((3, 4))\n",
        "print(f\"a=\\n{a}\")\n",
        "print(f\"a[:, 1]=\\n{a[:, 1]}\")\n",
        "print(f\"a[:2, :2]=\\n{a[:2, :2]}\")\n",
        "a[:2, :2] = 99\n",
        "print(f\"a=\\n{a}\")\n"
      ],
      "metadata": {
        "id": "OUg5X4BRgWeg"
      },
      "execution_count": null,
      "outputs": []
    },
    {
      "cell_type": "markdown",
      "source": [
        "![image.png](data:image/png;base64,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)"
      ],
      "metadata": {
        "id": "gLCoRhzMg9WS"
      }
    },
    {
      "cell_type": "markdown",
      "source": [
        "### Boolean Indexing\n",
        "\n",
        "Boolean operation can be applied to ndarrays and will produce a True/False ndarray. This arrays can be used to index other arrays as long as they have the same size:\n"
      ],
      "metadata": {
        "id": "yibIBw5XhPUu"
      }
    },
    {
      "cell_type": "code",
      "source": [
        "names = np.array([\"Bob\", \"James\", \"Mary\", \"Bob\", \"Jane\", \"Bob\", \"James\", \"Jane\"])\n",
        "print(names == \"Bob\")\n",
        "a = np.arange(24).reshape((8, 3))\n",
        "print(f\"a=\\n{a}\")\n",
        "print(f\"a[names == 'Bob']=\\n {a[names == 'Bob']}\")\n",
        "a[names==\"Jane\", :2 ] = 99\n",
        "print(f\"a=\\n{a}\")\n"
      ],
      "metadata": {
        "id": "HG4pCGUTheV1"
      },
      "execution_count": null,
      "outputs": []
    },
    {
      "cell_type": "markdown",
      "source": [
        "You can string multiple conditions using the| (or) and & (and) operator. Be advised that and, or do not work on ndarrays"
      ],
      "metadata": {
        "id": "hKvnuMdchYH4"
      }
    },
    {
      "cell_type": "code",
      "source": [
        "print(f\"{a[(names == 'Bob') | (names=='Jane')]}\")\n"
      ],
      "metadata": {
        "id": "GZr_crhzhdP4"
      },
      "execution_count": null,
      "outputs": []
    },
    {
      "cell_type": "markdown",
      "source": [
        "Selecting data from an array by boolean indexing and assigning the result to a new variable always creates a copy of the data, even if the returned array is unchanged."
      ],
      "metadata": {
        "id": "TlUY3yk0hYOn"
      }
    },
    {
      "cell_type": "markdown",
      "source": [
        "### Fancy Indexing\n",
        "Fancy indexing is the indexing of numpy ndarrays using integer arrays:\n"
      ],
      "metadata": {
        "id": "lqCeGA5-iSqR"
      }
    },
    {
      "cell_type": "code",
      "source": [
        "a = np.zeros((8, 3), dtype=np.int16)\n",
        "for i in range(8):\n",
        "  a[i] = i\n",
        "\n",
        "print(a)\n",
        "fancy_index = [1, 3, 5]\n",
        "print(f\"a[fancy] = \\n{a[fancy_index]}\")\n"
      ],
      "metadata": {
        "id": "GsKJ-UajiaYO"
      },
      "execution_count": null,
      "outputs": []
    },
    {
      "cell_type": "markdown",
      "source": [
        "Negative indices selects from the end:\n"
      ],
      "metadata": {
        "id": "b3nk_uHYiasV"
      }
    },
    {
      "cell_type": "code",
      "source": [
        "fancy_index2 = [-1, -2, -4]\n",
        "print(f\"a[fancy2] = \\n{a[fancy_index2]}\")\n"
      ],
      "metadata": {
        "colab": {
          "base_uri": "https://localhost:8080/"
        },
        "id": "NtH18xnjia1B",
        "outputId": "3abc46e1-e71a-457c-8e1e-a4444f14b5c2"
      },
      "execution_count": null,
      "outputs": [
        {
          "output_type": "stream",
          "name": "stdout",
          "text": [
            "a[fancy2] = \n",
            "[[7 7 7]\n",
            " [6 6 6]\n",
            " [4 4 4]]\n"
          ]
        }
      ]
    },
    {
      "cell_type": "markdown",
      "source": [
        "Passing multiple arrays will select based on the tuple indices of the arrays provided:\n"
      ],
      "metadata": {
        "id": "QXfiyjRDia8f"
      }
    },
    {
      "cell_type": "code",
      "source": [
        "a = np.arange(24).reshape((8, 3))\n",
        "print(f\"a=\\n{a}\")\n",
        "fancy1 = [0, 2, 4, 5]\n",
        "fancy2 = [0, 0, 1, 2]\n",
        "print(f\"a[fancy_fancy] = \\n{a[fancy1, fancy2]}\")\n",
        "\n"
      ],
      "metadata": {
        "colab": {
          "base_uri": "https://localhost:8080/"
        },
        "id": "FrEReDOdibV_",
        "outputId": "ec3d45dc-66fb-4f22-895d-d91cde07ae1a"
      },
      "execution_count": null,
      "outputs": [
        {
          "output_type": "stream",
          "name": "stdout",
          "text": [
            "a=\n",
            "[[ 0  1  2]\n",
            " [ 3  4  5]\n",
            " [ 6  7  8]\n",
            " [ 9 10 11]\n",
            " [12 13 14]\n",
            " [15 16 17]\n",
            " [18 19 20]\n",
            " [21 22 23]]\n",
            "a[fancy_fancy] = \n",
            "[ 0  6 13 17]\n"
          ]
        }
      ]
    },
    {
      "cell_type": "markdown",
      "source": [
        "### Linear Algebra\n",
        "\n",
        "![](https://i.ytimg.com/vi/0WDhKCPtbng/maxresdefault.jpg)\n",
        "\n",
        "- Linear algebra is very important since it is the foundation of machine learning and AI\n",
        "- T method will calculate the transposed of an ndarray\n",
        "- The dot product of two matrices is computed via the dot function (or method), also the @ operator\n",
        "- The inverse of a matrix is computed via the inv function inside the linalg module\n"
      ],
      "metadata": {
        "id": "CouNPdyK6Q3x"
      }
    },
    {
      "cell_type": "code",
      "source": [
        "import numpy as np\n",
        "a = np.zeros((3, 3))\n",
        "a[0, 0] = 1\n",
        "a[1, 1] = 2\n",
        "a[2, 2] = 3\n",
        "b = np.linalg.inv(a)\n",
        "print(f\"a=\\n{a}\")\n",
        "print(f\"b=\\n{b}\")\n",
        "print(f\"aXb=\\n{a.dot(b)}\")\n",
        "print(f\"aXb=\\n{a @ b}\")\n",
        "print(\"\\n\")\n",
        "\n",
        "a = np.ones((3, 4))\n",
        "print(a)\n",
        "b = a.T\n",
        "print(b)\n",
        "print(f\"aXb=\\n{a @ b}\")\n"
      ],
      "metadata": {
        "colab": {
          "base_uri": "https://localhost:8080/"
        },
        "id": "Mk2BENt_7dxf",
        "outputId": "e504562d-d891-46f6-a94a-b2ef1bc830b6"
      },
      "execution_count": null,
      "outputs": [
        {
          "output_type": "stream",
          "name": "stdout",
          "text": [
            "a=\n",
            "[[1. 0. 0.]\n",
            " [0. 2. 0.]\n",
            " [0. 0. 3.]]\n",
            "b=\n",
            "[[1.         0.         0.        ]\n",
            " [0.         0.5        0.        ]\n",
            " [0.         0.         0.33333333]]\n",
            "aXb=\n",
            "[[1. 0. 0.]\n",
            " [0. 1. 0.]\n",
            " [0. 0. 1.]]\n",
            "aXb=\n",
            "[[1. 0. 0.]\n",
            " [0. 1. 0.]\n",
            " [0. 0. 1.]]\n",
            "\n",
            "\n",
            "[[1. 1. 1. 1.]\n",
            " [1. 1. 1. 1.]\n",
            " [1. 1. 1. 1.]]\n",
            "[[1. 1. 1.]\n",
            " [1. 1. 1.]\n",
            " [1. 1. 1.]\n",
            " [1. 1. 1.]]\n",
            "aXb=\n",
            "[[4. 4. 4.]\n",
            " [4. 4. 4.]\n",
            " [4. 4. 4.]]\n"
          ]
        }
      ]
    },
    {
      "cell_type": "markdown",
      "source": [
        "# Visualizing Data\n"
      ],
      "metadata": {
        "id": "vk_HRx5lJsmz"
      }
    },
    {
      "cell_type": "code",
      "source": [
        "#@title Double Click for Example\n",
        "import matplotlib.pyplot as plt\n",
        "\n",
        "labels = 'Sky', 'Sunny Side of Pyramid', 'Dark Side of Pyramid'\n",
        "sizes = [75, 25, 10]\n",
        "colors = [\"#5555ff\", \"#cccc00\", \"#444400\"]\n",
        "plt.rcParams.update({'font.size': 22})\n",
        "\n",
        "plt.figure(figsize = (10, 10))\n",
        "plt.pie(sizes, labels=labels, startangle=-30, colors=colors)\n",
        "plt.show()"
      ],
      "metadata": {
        "id": "Q128KVx3KU1z",
        "cellView": "form"
      },
      "execution_count": null,
      "outputs": []
    },
    {
      "cell_type": "code",
      "source": [
        "#@title Another Example\n",
        "\n",
        "import matplotlib.pyplot as plt\n",
        "\n",
        "labels = 'Looks like Pacman', 'Does not look like Pacman'\n",
        "sizes = [84, 16]\n",
        "colors = [\"#f0f000\", \"#000000\"]\n",
        "plt.rcParams.update({'font.size': 22})\n",
        "\n",
        "plt.figure(figsize = (10, 10))\n",
        "plt.pie(sizes, labels=labels, startangle=30, colors=colors, explode=(0.1, 0.3))\n",
        "plt.show()"
      ],
      "metadata": {
        "id": "AL0btW8ZX4uK",
        "cellView": "form"
      },
      "execution_count": null,
      "outputs": []
    },
    {
      "cell_type": "code",
      "source": [
        "#@title Another Example\n",
        "\n",
        "import matplotlib.pyplot as plt\n",
        "\n",
        "labels = 'NO', 'Still NO, but Yellow'\n",
        "sizes = [95, 5]\n",
        "colors = [\"#3333ff\", \"#f0f000\"]\n",
        "plt.rcParams.update({'font.size': 22})\n",
        "\n",
        "plt.figure(figsize = (10, 10))\n",
        "plt.pie(sizes, labels=labels, startangle=260, colors=colors)\n",
        "plt.title(\"Will I be a good programer?\")\n",
        "plt.show()"
      ],
      "metadata": {
        "id": "KQ_PKAE-nqWU",
        "cellView": "form"
      },
      "execution_count": null,
      "outputs": []
    },
    {
      "cell_type": "code",
      "source": [
        "#@title Last Example\n",
        "import numpy as np\n",
        "import matplotlib.pyplot as plt\n",
        "import matplotlib.patches as mpatches\n",
        "\n",
        "plt.figure(figsize = (10, 10))\n",
        "x = (1.5, 1.45, 2.5)\n",
        "y = (1.5, 1.5, 2.3)\n",
        "colors = (\"#ff0000\", \"#0000ee\", \"#dddddd\")\n",
        "area = (95000, 80000, 14000)\n",
        "\n",
        "custom_legend = [mpatches.Circle(0, 0, color=\"#ff0000\"),\n",
        "                mpatches.Circle(0, 0, color=\"#0000ee\"),\n",
        "                mpatches.Circle(0, 0, color=\"#dddddd\")]\n",
        "\n",
        "plt.scatter(x, y, s=area, c=colors, alpha=0.9)\n",
        "plt.xlim(0, 3)\n",
        "plt.ylim(0.5, 3.5)\n",
        "plt.legend(custom_legend, ['Things in the Course', 'Things I Studied', 'The Math Exam'], loc=\"upper left\" )\n",
        "plt.xticks([])\n",
        "plt.yticks([])\n",
        "plt.show()"
      ],
      "metadata": {
        "cellView": "form",
        "id": "vbD5ojHPcv3p"
      },
      "execution_count": null,
      "outputs": []
    },
    {
      "cell_type": "markdown",
      "source": [
        "## Data Visualization\n",
        "\n",
        "- Data visualization is the presentation of data in a pictorial or graphical format. It enables decision makers to see information presented visually, so they can grasp difficult concepts or identify new patterns\n",
        "- Because of the way the human brain processes information, using charts or graphs to visualize large amounts of complex data is easier than going over spreadsheets. Data visualization is a sometimes a better way to convey concepts in a more intuitive manner\n",
        "- It adds facts instead of intuition in a discussion. Instead of looking at numbers and using imagination and abstraction, the pictures convey a more detailed view of the data presented\n",
        "- Rather than stating some conclusion, the viewers can reach the conclusion on their own by viewing the data representation\n",
        "- Depending on the choices made by the presenter it can also mislead people\n",
        "\n",
        "![](https://miro.medium.com/v2/resize:fit:640/format:webp/0*2eajwDjAo-uPb1Fg.png)\n",
        "![](https://miro.medium.com/v2/resize:fit:4800/format:webp/1*1csgboEzhGH706Q3GgwERA.png)\n"
      ],
      "metadata": {
        "id": "C71ypGzGWTpX"
      }
    },
    {
      "cell_type": "markdown",
      "source": [
        "# How to Show Data in Colab\n",
        "\n",
        "Being a medium used mainly for data related programming, Colab offers a number of different visualization options.\n",
        "The most common ones are:\n",
        "- matplotlib\n",
        "- seaborn\n",
        "- altair\n",
        "- bokeh\n"
      ],
      "metadata": {
        "id": "COgAxIqLJso_"
      }
    },
    {
      "cell_type": "markdown",
      "source": [
        "##Matplotlib <img src=\"https://upload.wikimedia.org/wikipedia/commons/thumb/0/01/Created_with_Matplotlib-logo.svg/2048px-Created_with_Matplotlib-logo.svg.png\" width=\"50\"/></br>\n",
        "Matplotlib is probably the most common Python library for visualizing data. It is the library we will use for most of our examples.\n",
        "\n",
        "Pros:\n",
        "- Very versatile\n",
        "- Accesible\n",
        "- Good documentation\n",
        "- Probably the most used\n",
        "\n",
        "Cons:\n",
        "- A bit more complicated\n",
        "- Style is not great out of the box\n"
      ],
      "metadata": {
        "id": "hwlwahXHS3jQ"
      }
    },
    {
      "cell_type": "code",
      "source": [
        "! wget -O data.csv https://raw.githubusercontent.com/itb-ie/HomeSchool5/master/MOD_LSTD_E_2021-08-29_gs_720x360.csv"
      ],
      "metadata": {
        "id": "xylq37kp6Uro"
      },
      "execution_count": null,
      "outputs": []
    },
    {
      "cell_type": "code",
      "source": [
        "import numpy as np\n",
        "\n",
        "dat = np.genfromtxt('data.csv', delimiter=',')\n",
        "dat = np.where(dat<1000, dat, np.NaN)\n",
        "# dat = np.where(dat<1000, 45, np.NaN)\n",
        "\n",
        "dat = dat[::-1, :]\n",
        "lon = np.arange(-180.0, 180.1, 0.5)\n",
        "lat = np.arange(-90.0, 90.1, 0.5)\n",
        "date = '2021-08-29 to 2021-09-05'\n",
        "source = 'https://neo.sci.gsfc.nasa.gov/view.php?datasetId=MOD_LSTD_E&date=2021-09-01'\n",
        "\n",
        "fig, ax = plt.subplots(constrained_layout=True, figsize=(14, 8))\n",
        "ax.set_facecolor('0.8')\n",
        "pc = ax.pcolormesh(lon, lat, dat, shading='auto', cmap='inferno')\n",
        "ax.set_aspect(1.3)\n",
        "ax.set_xlabel('Longitude $[^o E]$')\n",
        "ax.set_ylabel('Latitude $[^o N]$')\n",
        "fig.colorbar(pc, shrink=0.6, extend='both', label='land temperature $[^oC]$');\n",
        "ax.set_title(f'source: {source}', loc='left', fontsize='x-small');"
      ],
      "metadata": {
        "id": "MDXS2W401A5F"
      },
      "execution_count": null,
      "outputs": []
    },
    {
      "cell_type": "markdown",
      "source": [
        "## Seaborn <img src=\"https://user-images.githubusercontent.com/315810/92161415-9e357100-edfe-11ea-917d-f9e33fd60741.png\" width=\"50\"></br>\n",
        "Seaborn is a Python data visualization library based on matplotlib. It provides a high-level interface for drawing attractive and informative statistical graphics.\n",
        "\n",
        "Pros:\n",
        "- Simple to use\n",
        "- Looks good out of the box\n",
        "\n",
        "Cons:\n",
        "- More limited in what it can do\n"
      ],
      "metadata": {
        "id": "nytXf8KY05zO"
      }
    },
    {
      "cell_type": "code",
      "source": [
        "# Import seaborn\n",
        "import seaborn as sns\n",
        "\n",
        "# Apply the default theme\n",
        "sns.set_theme()\n",
        "\n",
        "# Load an example dataset\n",
        "tips = sns.load_dataset(\"tips\")\n",
        "print(tips)\n",
        "\n",
        "# Create a visualization\n",
        "sns.relplot(\n",
        "    data=tips,\n",
        "    x=\"total_bill\", y=\"tip\", col=\"time\",\n",
        "    hue=\"smoker\", style=\"sex\", size=\"size\",\n",
        ")"
      ],
      "metadata": {
        "id": "rlJd09b0zCiI"
      },
      "execution_count": null,
      "outputs": []
    },
    {
      "cell_type": "markdown",
      "source": [
        "## Altair <img src=\"https://altair-viz.github.io/_static/altair-logo-light.png\" width=50></br>\n",
        "Altair is a statistical visualization library in Python. It is a declarative in nature and is based on Vega and Vega-Lite visualization grammars.\n",
        "\n",
        "Pros:\n",
        "- Inutitive\n",
        "- Interactive\n",
        "- Simpler (according to some)\n",
        "\n",
        "Cons:\n",
        "- Not customizable\n",
        "- No 3D\n",
        "- Not reliable"
      ],
      "metadata": {
        "id": "8yFBkanEJsrX"
      }
    },
    {
      "cell_type": "code",
      "source": [
        "import altair as alt\n",
        "from vega_datasets import data\n",
        "source = data.cars()\n",
        "brush = alt.selection(type='interval')\n",
        "points = alt.Chart(source).mark_point().encode(\n",
        "    x='Horsepower:Q',\n",
        "    y='Miles_per_Gallon:Q',\n",
        "    color=alt.condition(brush, 'Origin:N', alt.value('lightgray'))\n",
        ").add_selection(\n",
        "    brush\n",
        ")\n",
        "bars = alt.Chart(source).mark_bar().encode(\n",
        "    y='Origin:N',\n",
        "    color='Origin:N',\n",
        "    x='count(Origin):Q'\n",
        ").transform_filter(\n",
        "    brush\n",
        ")\n",
        "plot = points & bars\n",
        "plot"
      ],
      "metadata": {
        "id": "PO_noen9-kbh"
      },
      "execution_count": null,
      "outputs": []
    },
    {
      "cell_type": "markdown",
      "source": [
        "## Matplotlib from Zero to Hero\n",
        "![](https://png.pngtree.com/png-clipart/20210704/ourmid/pngtree-from-zero-to-hero-handwritten-lettering-png-image_3553311.jpg)\n",
        "\n"
      ],
      "metadata": {
        "id": "DZD4o8W6pmrG"
      }
    },
    {
      "cell_type": "code",
      "source": [
        "import matplotlib.pylab as plt\n",
        "x = y = list(range(100))\n",
        "y2 = list(range(0, 200, 2))\n",
        "plt.plot(x, y)\n",
        "plt.plot(x, y2)\n",
        "plt.show()\n",
        "\n"
      ],
      "metadata": {
        "id": "LEvHS23Epsj_"
      },
      "execution_count": null,
      "outputs": []
    },
    {
      "cell_type": "code",
      "source": [
        "import matplotlib.pylab as plt\n",
        "x = y = list(range(100))\n",
        "fig, (x1, x2) = plt.subplots(2)\n",
        "x1.plot(x, y)\n",
        "x2.plot(x, y)\n",
        "plt.show()\n"
      ],
      "metadata": {
        "id": "0aqtx_tgqpDm"
      },
      "execution_count": null,
      "outputs": []
    },
    {
      "cell_type": "code",
      "source": [
        "import matplotlib.pylab as plt\n",
        "x = y = list(range(100))\n",
        "y2 = [50 for i in range(100)]\n",
        "y3 = [100-i for i in range(100)]\n",
        "y3 = [i for i in range(100,0,-1)]\n",
        "y3 = list(range(100,0,-1))\n",
        "\n",
        "fig, axs = plt.subplots(2,3, figsize=(20, 10))\n",
        "for line in range(0,2):\n",
        "  for col in range(0,3):\n",
        "    axs[line, col].set_title(f\"Title {line+1}/{col+1}\")\n",
        "    axs[line, col].plot(x, y)\n",
        "    axs[line, col].plot(x, y2)\n",
        "    axs[line, col].plot(x, y3)\n",
        "\n",
        "plt.show()"
      ],
      "metadata": {
        "id": "YhupsNd4r4Wc"
      },
      "execution_count": null,
      "outputs": []
    },
    {
      "cell_type": "code",
      "source": [
        "import matplotlib.pylab as plt\n",
        "import numpy as np\n",
        "\n",
        "x = np.linspace(0, 100, 50)\n",
        "y = x**2\n",
        "y2 = x**3/100\n",
        "\n",
        "# plt.rcParams.update({'font.size': 16})\n",
        "plt.figure(figsize = (5, 5))\n",
        "\n",
        "plt.title(\"Y =  $X^2$\")\n",
        "plt.plot(x, y)\n",
        "plt.plot(x, y2)\n",
        "plt.show()"
      ],
      "metadata": {
        "id": "jk6_070UtojB"
      },
      "execution_count": null,
      "outputs": []
    },
    {
      "cell_type": "code",
      "source": [
        "import matplotlib.pylab as plt\n",
        "import numpy as np\n",
        "\n",
        "x = np.linspace(0, 100, 400)\n",
        "y1 = x**2\n",
        "y2 = 10*x\n",
        "\n",
        "plt.rcParams.update({'font.size': 16})\n",
        "fig, axis = plt.subplots(1, 2, figsize=(20, 10), sharey=False)\n",
        "\n",
        "\n",
        "axis[0].set_title(\"Y =  $X^2$\")\n",
        "axis[0].plot(x, y1)\n",
        "\n",
        "axis[1].set_title(\"Y = 10*X\")\n",
        "axis[1].plot(x, y2)\n",
        "\n",
        "plt.show()"
      ],
      "metadata": {
        "id": "4Fgmowdku2p7"
      },
      "execution_count": null,
      "outputs": []
    },
    {
      "cell_type": "code",
      "source": [
        "import matplotlib.pylab as plt\n",
        "import numpy as np\n",
        "\n",
        "# data\n",
        "x = np.linspace(0, 5*np.pi, 250)\n",
        "y1 = np.sin(x)\n",
        "y2 = np.cos(x)\n",
        "\n",
        "# figure\n",
        "plt.figure(figsize=(20, 8))\n",
        "plt.title(\"Sin and Cos Graph\")\n",
        "\n",
        "plt.plot(x, y1, \"r\", label=\"sin\", markersize=20)\n",
        "plt.plot(x, y2, \"k\", label=\"cos\", markersize=2)\n",
        "plt.legend()\n",
        "plt.show()\n"
      ],
      "metadata": {
        "id": "5XevvbfdwqGx"
      },
      "execution_count": null,
      "outputs": []
    },
    {
      "cell_type": "code",
      "source": [
        "#@title Pie Charts\n",
        "\n",
        "import matplotlib.pyplot as plt\n",
        "\n",
        "labels = 'Looks like Pacman', 'Does not look like Pacman'\n",
        "sizes = [84, 16]\n",
        "colors = [\"#f0f000\", \"#000000\"]\n",
        "plt.rcParams.update({'font.size': 12})\n",
        "\n",
        "fig, axes = plt.subplots(1, 3, figsize=(20, 10))\n",
        "\n",
        "axes[0].pie(sizes, startangle=30, colors=colors, explode=(0.1, 0.3))\n",
        "axes[0].legend(labels, loc=\"upper left\")\n",
        "\n",
        "axes[1].pie([10, 20, 30, 40], explode=(0, 0.1, 0, 0), labels=(\"\", \"My Piece\", \"\", \"\"))\n",
        "axes[1].set_title(\"NY Real Estate\")\n",
        "\n",
        "axes[2].pie([10, 10, 35, 30, 15], explode=(0, 0.1, 0, 0, 0.2),\n",
        "            labels=(\"\", \"My Piece\", \"\", \"\", \"Your piece\"), shadow=True,\n",
        "            autopct='%1.1f%%')\n",
        "plt.show()\n"
      ],
      "metadata": {
        "id": "zjImWxBQykJ4"
      },
      "execution_count": null,
      "outputs": []
    },
    {
      "cell_type": "markdown",
      "source": [
        "# Homework\n",
        "![](https://globalnews.ca/wp-content/uploads/2017/04/homework.jpg?quality=85&strip=all)\n",
        "Look into other types of charts on the matplotlib website.\n",
        "Write a functional example using whatever data you want.\n",
        "\n",
        "https://matplotlib.org/stable/plot_types/index.html\n"
      ],
      "metadata": {
        "id": "f1BCOHbk1lp5"
      }
    }
  ]
}